{
 "cells": [
  {
   "cell_type": "code",
   "execution_count": 5,
   "id": "7cd9063f",
   "metadata": {},
   "outputs": [],
   "source": [
    "import numpy as np\n",
    "data=np.loadtxt(\"data.csv\",delimiter=\",\")\n",
    "x=data[:,0]\n",
    "y=data[:,1]\n",
    "from sklearn import model_selection\n",
    "x_train,x_test,y_train,y_test=model_selection.train_test_split(x,y)"
   ]
  },
  {
   "cell_type": "code",
   "execution_count": 10,
   "id": "da050f0f",
   "metadata": {},
   "outputs": [],
   "source": [
    "def fit(x_train,y_train):\n",
    "    num=(x_train*y_train).mean()-x_train.mean()*y_train.mean()\n",
    "    den=(x_train**2).mean()-x_train.mean()**2\n",
    "    m=num/den\n",
    "    c=y_train.mean()-m*x_train.mean()\n",
    "    return m,c\n"
   ]
  },
  {
   "cell_type": "code",
   "execution_count": 14,
   "id": "819af993",
   "metadata": {},
   "outputs": [],
   "source": [
    "def pred(x_train,m,c):\n",
    "    return m*x_train+c\n",
    "def score(y,y_pred):\n",
    "    u=((y-y_pred)**2).sum()\n",
    "    v=((y-y.mean())**2).sum()\n",
    "    return 1-u/v\n",
    "def cost(x,y,m,c):\n",
    "    return ((y-m*x-c)**2).mean()"
   ]
  },
  {
   "cell_type": "code",
   "execution_count": 16,
   "id": "89ae4716",
   "metadata": {},
   "outputs": [
    {
     "name": "stdout",
     "output_type": "stream",
     "text": [
      "m 1.3394667511329363\n",
      "c 7.455976730124462\n",
      "TEST SCORE 0.5459814424518283\n"
     ]
    }
   ],
   "source": [
    "m,c=fit(x_train,y_train)\n",
    "y_test_pred=pred(x_test,m,c)\n",
    "print(\"m\",m)\n",
    "print(\"c\",c)\n",
    "print(\"TEST SCORE\",score(y_test,y_test_pred))"
   ]
  },
  {
   "cell_type": "code",
   "execution_count": 29,
   "id": "0defa3fe",
   "metadata": {},
   "outputs": [
    {
     "name": "stdout",
     "output_type": "stream",
     "text": [
      "m 1.3394667511329277\n",
      "c 7.455976730124888\n"
     ]
    }
   ],
   "source": [
    "from sklearn.linear_model import LinearRegression\n",
    "algo=LinearRegression()\n",
    "algo.fit(x_train.reshape(-1, 1),y_train)\n",
    "algo.predict(x_test.reshape(-1, 1))\n",
    "print(\"m\",algo.coef_[0])\n",
    "print(\"c\",algo.intercept_)\n",
    "#print(\"TEST SCORE\",algo.score(x_test.reshape(1, -1),y_test))"
   ]
  },
  {
   "cell_type": "code",
   "execution_count": null,
   "id": "b4ce7cd2",
   "metadata": {},
   "outputs": [],
   "source": []
  }
 ],
 "metadata": {
  "kernelspec": {
   "display_name": "Python 3 (ipykernel)",
   "language": "python",
   "name": "python3"
  },
  "language_info": {
   "codemirror_mode": {
    "name": "ipython",
    "version": 3
   },
   "file_extension": ".py",
   "mimetype": "text/x-python",
   "name": "python",
   "nbconvert_exporter": "python",
   "pygments_lexer": "ipython3",
   "version": "3.9.13"
  }
 },
 "nbformat": 4,
 "nbformat_minor": 5
}
